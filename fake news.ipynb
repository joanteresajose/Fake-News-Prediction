{
 "cells": [
  {
   "cell_type": "raw",
   "id": "1e8afe37",
   "metadata": {},
   "source": [
    "    id: unique id for news article\n",
    "    title: title of the news \n",
    "    subject: subject of the news\n",
    "    text: text of the article\n",
    "    date: date of the article\n",
    "    label: label that marks whether the news is fake or real\n",
    "     1- fake news\n",
    "     0- real news"
   ]
  },
  {
   "cell_type": "code",
   "execution_count": 1,
   "id": "d0194631",
   "metadata": {},
   "outputs": [],
   "source": [
    "import pandas as pd\n",
    "import numpy as np\n",
    "\n",
    "import re\n",
    "from nltk.corpus import stopwords\n",
    "import matplotlib.pyplot as plt\n",
    "from nltk.stem.porter import PorterStemmer\n",
    "from sklearn.model_selection import train_test_split\n",
    "from sklearn.feature_extraction.text import TfidfVectorizer\n",
    "from sklearn.linear_model import LogisticRegression\n",
    "from sklearn.metrics import accuracy_score"
   ]
  },
  {
   "cell_type": "code",
   "execution_count": 2,
   "id": "b757b925",
   "metadata": {},
   "outputs": [],
   "source": [
    "fake_d= pd.read_csv(r\"C:\\Users\\HP\\Desktop\\fake.csv\")\n",
    "true_d= pd.read_csv(r\"C:\\Users\\HP\\Desktop\\true.csv\")"
   ]
  },
  {
   "cell_type": "code",
   "execution_count": 3,
   "id": "84047b2f",
   "metadata": {},
   "outputs": [
    {
     "data": {
      "text/html": [
       "<div>\n",
       "<style scoped>\n",
       "    .dataframe tbody tr th:only-of-type {\n",
       "        vertical-align: middle;\n",
       "    }\n",
       "\n",
       "    .dataframe tbody tr th {\n",
       "        vertical-align: top;\n",
       "    }\n",
       "\n",
       "    .dataframe thead th {\n",
       "        text-align: right;\n",
       "    }\n",
       "</style>\n",
       "<table border=\"1\" class=\"dataframe\">\n",
       "  <thead>\n",
       "    <tr style=\"text-align: right;\">\n",
       "      <th></th>\n",
       "      <th>title</th>\n",
       "      <th>text</th>\n",
       "      <th>subject</th>\n",
       "      <th>date</th>\n",
       "    </tr>\n",
       "  </thead>\n",
       "  <tbody>\n",
       "    <tr>\n",
       "      <th>0</th>\n",
       "      <td>Donald Trump Sends Out Embarrassing New Year’...</td>\n",
       "      <td>Donald Trump just couldn t wish all Americans ...</td>\n",
       "      <td>News</td>\n",
       "      <td>December 31, 2017</td>\n",
       "    </tr>\n",
       "    <tr>\n",
       "      <th>1</th>\n",
       "      <td>Drunk Bragging Trump Staffer Started Russian ...</td>\n",
       "      <td>House Intelligence Committee Chairman Devin Nu...</td>\n",
       "      <td>News</td>\n",
       "      <td>December 31, 2017</td>\n",
       "    </tr>\n",
       "    <tr>\n",
       "      <th>2</th>\n",
       "      <td>Sheriff David Clarke Becomes An Internet Joke...</td>\n",
       "      <td>On Friday, it was revealed that former Milwauk...</td>\n",
       "      <td>News</td>\n",
       "      <td>December 30, 2017</td>\n",
       "    </tr>\n",
       "    <tr>\n",
       "      <th>3</th>\n",
       "      <td>Trump Is So Obsessed He Even Has Obama’s Name...</td>\n",
       "      <td>On Christmas day, Donald Trump announced that ...</td>\n",
       "      <td>News</td>\n",
       "      <td>December 29, 2017</td>\n",
       "    </tr>\n",
       "    <tr>\n",
       "      <th>4</th>\n",
       "      <td>Pope Francis Just Called Out Donald Trump Dur...</td>\n",
       "      <td>Pope Francis used his annual Christmas Day mes...</td>\n",
       "      <td>News</td>\n",
       "      <td>December 25, 2017</td>\n",
       "    </tr>\n",
       "  </tbody>\n",
       "</table>\n",
       "</div>"
      ],
      "text/plain": [
       "                                               title  \\\n",
       "0   Donald Trump Sends Out Embarrassing New Year’...   \n",
       "1   Drunk Bragging Trump Staffer Started Russian ...   \n",
       "2   Sheriff David Clarke Becomes An Internet Joke...   \n",
       "3   Trump Is So Obsessed He Even Has Obama’s Name...   \n",
       "4   Pope Francis Just Called Out Donald Trump Dur...   \n",
       "\n",
       "                                                text subject  \\\n",
       "0  Donald Trump just couldn t wish all Americans ...    News   \n",
       "1  House Intelligence Committee Chairman Devin Nu...    News   \n",
       "2  On Friday, it was revealed that former Milwauk...    News   \n",
       "3  On Christmas day, Donald Trump announced that ...    News   \n",
       "4  Pope Francis used his annual Christmas Day mes...    News   \n",
       "\n",
       "                date  \n",
       "0  December 31, 2017  \n",
       "1  December 31, 2017  \n",
       "2  December 30, 2017  \n",
       "3  December 29, 2017  \n",
       "4  December 25, 2017  "
      ]
     },
     "execution_count": 3,
     "metadata": {},
     "output_type": "execute_result"
    }
   ],
   "source": [
    "fake_d.head()"
   ]
  },
  {
   "cell_type": "code",
   "execution_count": 4,
   "id": "d7a0dbe9",
   "metadata": {},
   "outputs": [
    {
     "data": {
      "text/html": [
       "<div>\n",
       "<style scoped>\n",
       "    .dataframe tbody tr th:only-of-type {\n",
       "        vertical-align: middle;\n",
       "    }\n",
       "\n",
       "    .dataframe tbody tr th {\n",
       "        vertical-align: top;\n",
       "    }\n",
       "\n",
       "    .dataframe thead th {\n",
       "        text-align: right;\n",
       "    }\n",
       "</style>\n",
       "<table border=\"1\" class=\"dataframe\">\n",
       "  <thead>\n",
       "    <tr style=\"text-align: right;\">\n",
       "      <th></th>\n",
       "      <th>title</th>\n",
       "      <th>text</th>\n",
       "      <th>subject</th>\n",
       "      <th>date</th>\n",
       "    </tr>\n",
       "  </thead>\n",
       "  <tbody>\n",
       "    <tr>\n",
       "      <th>0</th>\n",
       "      <td>As U.S. budget fight looms, Republicans flip t...</td>\n",
       "      <td>WASHINGTON (Reuters) - The head of a conservat...</td>\n",
       "      <td>politicsNews</td>\n",
       "      <td>December 31, 2017</td>\n",
       "    </tr>\n",
       "    <tr>\n",
       "      <th>1</th>\n",
       "      <td>U.S. military to accept transgender recruits o...</td>\n",
       "      <td>WASHINGTON (Reuters) - Transgender people will...</td>\n",
       "      <td>politicsNews</td>\n",
       "      <td>December 29, 2017</td>\n",
       "    </tr>\n",
       "    <tr>\n",
       "      <th>2</th>\n",
       "      <td>Senior U.S. Republican senator: 'Let Mr. Muell...</td>\n",
       "      <td>WASHINGTON (Reuters) - The special counsel inv...</td>\n",
       "      <td>politicsNews</td>\n",
       "      <td>December 31, 2017</td>\n",
       "    </tr>\n",
       "    <tr>\n",
       "      <th>3</th>\n",
       "      <td>FBI Russia probe helped by Australian diplomat...</td>\n",
       "      <td>WASHINGTON (Reuters) - Trump campaign adviser ...</td>\n",
       "      <td>politicsNews</td>\n",
       "      <td>December 30, 2017</td>\n",
       "    </tr>\n",
       "    <tr>\n",
       "      <th>4</th>\n",
       "      <td>Trump wants Postal Service to charge 'much mor...</td>\n",
       "      <td>SEATTLE/WASHINGTON (Reuters) - President Donal...</td>\n",
       "      <td>politicsNews</td>\n",
       "      <td>December 29, 2017</td>\n",
       "    </tr>\n",
       "  </tbody>\n",
       "</table>\n",
       "</div>"
      ],
      "text/plain": [
       "                                               title  \\\n",
       "0  As U.S. budget fight looms, Republicans flip t...   \n",
       "1  U.S. military to accept transgender recruits o...   \n",
       "2  Senior U.S. Republican senator: 'Let Mr. Muell...   \n",
       "3  FBI Russia probe helped by Australian diplomat...   \n",
       "4  Trump wants Postal Service to charge 'much mor...   \n",
       "\n",
       "                                                text       subject  \\\n",
       "0  WASHINGTON (Reuters) - The head of a conservat...  politicsNews   \n",
       "1  WASHINGTON (Reuters) - Transgender people will...  politicsNews   \n",
       "2  WASHINGTON (Reuters) - The special counsel inv...  politicsNews   \n",
       "3  WASHINGTON (Reuters) - Trump campaign adviser ...  politicsNews   \n",
       "4  SEATTLE/WASHINGTON (Reuters) - President Donal...  politicsNews   \n",
       "\n",
       "                 date  \n",
       "0  December 31, 2017   \n",
       "1  December 29, 2017   \n",
       "2  December 31, 2017   \n",
       "3  December 30, 2017   \n",
       "4  December 29, 2017   "
      ]
     },
     "execution_count": 4,
     "metadata": {},
     "output_type": "execute_result"
    }
   ],
   "source": [
    "true_d.head()"
   ]
  },
  {
   "cell_type": "code",
   "execution_count": 5,
   "id": "f9355ada",
   "metadata": {},
   "outputs": [
    {
     "name": "stderr",
     "output_type": "stream",
     "text": [
      "[nltk_data] Downloading package stopwords to\n",
      "[nltk_data]     C:\\Users\\HP\\AppData\\Roaming\\nltk_data...\n",
      "[nltk_data]   Package stopwords is already up-to-date!\n"
     ]
    },
    {
     "data": {
      "text/plain": [
       "True"
      ]
     },
     "execution_count": 5,
     "metadata": {},
     "output_type": "execute_result"
    }
   ],
   "source": [
    "import nltk\n",
    "nltk.download('stopwords')"
   ]
  },
  {
   "cell_type": "code",
   "execution_count": 6,
   "id": "7ad04ac8",
   "metadata": {
    "scrolled": true
   },
   "outputs": [
    {
     "name": "stdout",
     "output_type": "stream",
     "text": [
      "['i', 'me', 'my', 'myself', 'we', 'our', 'ours', 'ourselves', 'you', \"you're\", \"you've\", \"you'll\", \"you'd\", 'your', 'yours', 'yourself', 'yourselves', 'he', 'him', 'his', 'himself', 'she', \"she's\", 'her', 'hers', 'herself', 'it', \"it's\", 'its', 'itself', 'they', 'them', 'their', 'theirs', 'themselves', 'what', 'which', 'who', 'whom', 'this', 'that', \"that'll\", 'these', 'those', 'am', 'is', 'are', 'was', 'were', 'be', 'been', 'being', 'have', 'has', 'had', 'having', 'do', 'does', 'did', 'doing', 'a', 'an', 'the', 'and', 'but', 'if', 'or', 'because', 'as', 'until', 'while', 'of', 'at', 'by', 'for', 'with', 'about', 'against', 'between', 'into', 'through', 'during', 'before', 'after', 'above', 'below', 'to', 'from', 'up', 'down', 'in', 'out', 'on', 'off', 'over', 'under', 'again', 'further', 'then', 'once', 'here', 'there', 'when', 'where', 'why', 'how', 'all', 'any', 'both', 'each', 'few', 'more', 'most', 'other', 'some', 'such', 'no', 'nor', 'not', 'only', 'own', 'same', 'so', 'than', 'too', 'very', 's', 't', 'can', 'will', 'just', 'don', \"don't\", 'should', \"should've\", 'now', 'd', 'll', 'm', 'o', 're', 've', 'y', 'ain', 'aren', \"aren't\", 'couldn', \"couldn't\", 'didn', \"didn't\", 'doesn', \"doesn't\", 'hadn', \"hadn't\", 'hasn', \"hasn't\", 'haven', \"haven't\", 'isn', \"isn't\", 'ma', 'mightn', \"mightn't\", 'mustn', \"mustn't\", 'needn', \"needn't\", 'shan', \"shan't\", 'shouldn', \"shouldn't\", 'wasn', \"wasn't\", 'weren', \"weren't\", 'won', \"won't\", 'wouldn', \"wouldn't\"]\n"
     ]
    }
   ],
   "source": [
    "#printing the stopwrods(word that add no value to the news)\n",
    "print(stopwords.words('english'))"
   ]
  },
  {
   "cell_type": "code",
   "execution_count": 7,
   "id": "4516dd5a",
   "metadata": {},
   "outputs": [
    {
     "data": {
      "text/plain": [
       "(23481, 4)"
      ]
     },
     "execution_count": 7,
     "metadata": {},
     "output_type": "execute_result"
    }
   ],
   "source": [
    " fake_d.shape\n",
    "    "
   ]
  },
  {
   "cell_type": "code",
   "execution_count": 8,
   "id": "86ddd542",
   "metadata": {},
   "outputs": [
    {
     "data": {
      "text/plain": [
       "(21417, 4)"
      ]
     },
     "execution_count": 8,
     "metadata": {},
     "output_type": "execute_result"
    }
   ],
   "source": [
    "true_d.shape"
   ]
  },
  {
   "cell_type": "code",
   "execution_count": 9,
   "id": "235c226f",
   "metadata": {},
   "outputs": [],
   "source": [
    "fake_d[\"label\"]=1\n",
    "true_d[\"label\"]=0"
   ]
  },
  {
   "cell_type": "code",
   "execution_count": 10,
   "id": "ca45c66c",
   "metadata": {},
   "outputs": [
    {
     "data": {
      "text/plain": [
       "(23481, 5)"
      ]
     },
     "execution_count": 10,
     "metadata": {},
     "output_type": "execute_result"
    }
   ],
   "source": [
    "fake_d.shape"
   ]
  },
  {
   "cell_type": "code",
   "execution_count": 11,
   "id": "2aa99ae7",
   "metadata": {},
   "outputs": [],
   "source": [
    "train_set=pd.concat([fake_d,true_d])"
   ]
  },
  {
   "cell_type": "code",
   "execution_count": 12,
   "id": "57e73ac2",
   "metadata": {},
   "outputs": [],
   "source": [
    "train_set=train_set.sample(frac=1).reset_index(drop=True)"
   ]
  },
  {
   "cell_type": "code",
   "execution_count": 13,
   "id": "e74f6b05",
   "metadata": {},
   "outputs": [
    {
     "data": {
      "text/html": [
       "<div>\n",
       "<style scoped>\n",
       "    .dataframe tbody tr th:only-of-type {\n",
       "        vertical-align: middle;\n",
       "    }\n",
       "\n",
       "    .dataframe tbody tr th {\n",
       "        vertical-align: top;\n",
       "    }\n",
       "\n",
       "    .dataframe thead th {\n",
       "        text-align: right;\n",
       "    }\n",
       "</style>\n",
       "<table border=\"1\" class=\"dataframe\">\n",
       "  <thead>\n",
       "    <tr style=\"text-align: right;\">\n",
       "      <th></th>\n",
       "      <th>title</th>\n",
       "      <th>text</th>\n",
       "      <th>subject</th>\n",
       "      <th>date</th>\n",
       "      <th>label</th>\n",
       "    </tr>\n",
       "  </thead>\n",
       "  <tbody>\n",
       "    <tr>\n",
       "      <th>0</th>\n",
       "      <td>Indonesian forces prepare to storm Papua villa...</td>\n",
       "      <td>JAKARTA (Reuters) - Indonesian security forces...</td>\n",
       "      <td>worldnews</td>\n",
       "      <td>November 11, 2017</td>\n",
       "      <td>0</td>\n",
       "    </tr>\n",
       "    <tr>\n",
       "      <th>1</th>\n",
       "      <td>IRONY ALERT! DC’S DAY WITHOUT WOMEN Literally ...</td>\n",
       "      <td>We hope these women realize they were being us...</td>\n",
       "      <td>Government News</td>\n",
       "      <td>Mar 8, 2017</td>\n",
       "      <td>1</td>\n",
       "    </tr>\n",
       "    <tr>\n",
       "      <th>2</th>\n",
       "      <td>Elizabeth Warren Brilliantly Responds To A**h...</td>\n",
       "      <td>Clearly forgetting that we re in the year 2016...</td>\n",
       "      <td>News</td>\n",
       "      <td>March 18, 2016</td>\n",
       "      <td>1</td>\n",
       "    </tr>\n",
       "    <tr>\n",
       "      <th>3</th>\n",
       "      <td>STAND UP AND CHEER! UKIP Party Leader SLAMS Ge...</td>\n",
       "      <td>He s been Europe s version of the outspoken Te...</td>\n",
       "      <td>politics</td>\n",
       "      <td>Mar 8, 2016</td>\n",
       "      <td>1</td>\n",
       "    </tr>\n",
       "    <tr>\n",
       "      <th>4</th>\n",
       "      <td>BILL CLINTON LOSES IT With Heckler In Finger-P...</td>\n",
       "      <td></td>\n",
       "      <td>Government News</td>\n",
       "      <td>Nov 2, 2016</td>\n",
       "      <td>1</td>\n",
       "    </tr>\n",
       "  </tbody>\n",
       "</table>\n",
       "</div>"
      ],
      "text/plain": [
       "                                               title  \\\n",
       "0  Indonesian forces prepare to storm Papua villa...   \n",
       "1  IRONY ALERT! DC’S DAY WITHOUT WOMEN Literally ...   \n",
       "2   Elizabeth Warren Brilliantly Responds To A**h...   \n",
       "3  STAND UP AND CHEER! UKIP Party Leader SLAMS Ge...   \n",
       "4  BILL CLINTON LOSES IT With Heckler In Finger-P...   \n",
       "\n",
       "                                                text          subject  \\\n",
       "0  JAKARTA (Reuters) - Indonesian security forces...        worldnews   \n",
       "1  We hope these women realize they were being us...  Government News   \n",
       "2  Clearly forgetting that we re in the year 2016...             News   \n",
       "3  He s been Europe s version of the outspoken Te...         politics   \n",
       "4                                                     Government News   \n",
       "\n",
       "                 date  label  \n",
       "0  November 11, 2017       0  \n",
       "1         Mar 8, 2017      1  \n",
       "2      March 18, 2016      1  \n",
       "3         Mar 8, 2016      1  \n",
       "4         Nov 2, 2016      1  "
      ]
     },
     "execution_count": 13,
     "metadata": {},
     "output_type": "execute_result"
    }
   ],
   "source": [
    "train_set.head()"
   ]
  },
  {
   "cell_type": "code",
   "execution_count": 14,
   "id": "d3393d17",
   "metadata": {},
   "outputs": [
    {
     "data": {
      "text/plain": [
       "title      object\n",
       "text       object\n",
       "subject    object\n",
       "date       object\n",
       "label       int64\n",
       "dtype: object"
      ]
     },
     "execution_count": 14,
     "metadata": {},
     "output_type": "execute_result"
    }
   ],
   "source": [
    "train_set.dtypes"
   ]
  },
  {
   "cell_type": "code",
   "execution_count": 15,
   "id": "e20953eb",
   "metadata": {},
   "outputs": [],
   "source": [
    "label_distribution=train_set['label'].value_counts()"
   ]
  },
  {
   "cell_type": "code",
   "execution_count": 16,
   "id": "bbd9bb77",
   "metadata": {},
   "outputs": [],
   "source": [
    "labels=[f\"{label} ({count})\" for label, count in zip(label_distribution.index,label_distribution.values)]"
   ]
  },
  {
   "cell_type": "code",
   "execution_count": 17,
   "id": "0c176334",
   "metadata": {},
   "outputs": [
    {
     "data": {
      "image/png": "[encoded data removed]",
      "text/plain": [
       "<Figure size 400x400 with 1 Axes>"
      ]
     },
     "metadata": {},
     "output_type": "display_data"
    }
   ],
   "source": [
    "plt.figure(figsize=(4, 4))\n",
    "plt.pie(label_distribution,labels=labels,autopct='%1.1f%%',startangle=140)\n",
    "plt.title('Label Distribution')\n",
    "plt.show()"
   ]
  },
  {
   "cell_type": "code",
   "execution_count": 18,
   "id": "516d1369",
   "metadata": {},
   "outputs": [
    {
     "data": {
      "text/html": [
       "<div>\n",
       "<style scoped>\n",
       "    .dataframe tbody tr th:only-of-type {\n",
       "        vertical-align: middle;\n",
       "    }\n",
       "\n",
       "    .dataframe tbody tr th {\n",
       "        vertical-align: top;\n",
       "    }\n",
       "\n",
       "    .dataframe thead th {\n",
       "        text-align: right;\n",
       "    }\n",
       "</style>\n",
       "<table border=\"1\" class=\"dataframe\">\n",
       "  <thead>\n",
       "    <tr style=\"text-align: right;\">\n",
       "      <th></th>\n",
       "      <th>title</th>\n",
       "      <th>text</th>\n",
       "      <th>subject</th>\n",
       "      <th>date</th>\n",
       "      <th>label</th>\n",
       "    </tr>\n",
       "  </thead>\n",
       "  <tbody>\n",
       "    <tr>\n",
       "      <th>0</th>\n",
       "      <td>Donald Trump Sends Out Embarrassing New Year’...</td>\n",
       "      <td>Donald Trump just couldn t wish all Americans ...</td>\n",
       "      <td>News</td>\n",
       "      <td>December 31, 2017</td>\n",
       "      <td>1</td>\n",
       "    </tr>\n",
       "    <tr>\n",
       "      <th>1</th>\n",
       "      <td>Drunk Bragging Trump Staffer Started Russian ...</td>\n",
       "      <td>House Intelligence Committee Chairman Devin Nu...</td>\n",
       "      <td>News</td>\n",
       "      <td>December 31, 2017</td>\n",
       "      <td>1</td>\n",
       "    </tr>\n",
       "    <tr>\n",
       "      <th>2</th>\n",
       "      <td>Sheriff David Clarke Becomes An Internet Joke...</td>\n",
       "      <td>On Friday, it was revealed that former Milwauk...</td>\n",
       "      <td>News</td>\n",
       "      <td>December 30, 2017</td>\n",
       "      <td>1</td>\n",
       "    </tr>\n",
       "    <tr>\n",
       "      <th>3</th>\n",
       "      <td>Trump Is So Obsessed He Even Has Obama’s Name...</td>\n",
       "      <td>On Christmas day, Donald Trump announced that ...</td>\n",
       "      <td>News</td>\n",
       "      <td>December 29, 2017</td>\n",
       "      <td>1</td>\n",
       "    </tr>\n",
       "    <tr>\n",
       "      <th>4</th>\n",
       "      <td>Pope Francis Just Called Out Donald Trump Dur...</td>\n",
       "      <td>Pope Francis used his annual Christmas Day mes...</td>\n",
       "      <td>News</td>\n",
       "      <td>December 25, 2017</td>\n",
       "      <td>1</td>\n",
       "    </tr>\n",
       "  </tbody>\n",
       "</table>\n",
       "</div>"
      ],
      "text/plain": [
       "                                               title  \\\n",
       "0   Donald Trump Sends Out Embarrassing New Year’...   \n",
       "1   Drunk Bragging Trump Staffer Started Russian ...   \n",
       "2   Sheriff David Clarke Becomes An Internet Joke...   \n",
       "3   Trump Is So Obsessed He Even Has Obama’s Name...   \n",
       "4   Pope Francis Just Called Out Donald Trump Dur...   \n",
       "\n",
       "                                                text subject  \\\n",
       "0  Donald Trump just couldn t wish all Americans ...    News   \n",
       "1  House Intelligence Committee Chairman Devin Nu...    News   \n",
       "2  On Friday, it was revealed that former Milwauk...    News   \n",
       "3  On Christmas day, Donald Trump announced that ...    News   \n",
       "4  Pope Francis used his annual Christmas Day mes...    News   \n",
       "\n",
       "                date  label  \n",
       "0  December 31, 2017      1  \n",
       "1  December 31, 2017      1  \n",
       "2  December 30, 2017      1  \n",
       "3  December 29, 2017      1  \n",
       "4  December 25, 2017      1  "
      ]
     },
     "execution_count": 18,
     "metadata": {},
     "output_type": "execute_result"
    }
   ],
   "source": [
    "fake_d.head()"
   ]
  },
  {
   "cell_type": "code",
   "execution_count": 19,
   "id": "dae235a5",
   "metadata": {},
   "outputs": [
    {
     "data": {
      "text/html": [
       "<div>\n",
       "<style scoped>\n",
       "    .dataframe tbody tr th:only-of-type {\n",
       "        vertical-align: middle;\n",
       "    }\n",
       "\n",
       "    .dataframe tbody tr th {\n",
       "        vertical-align: top;\n",
       "    }\n",
       "\n",
       "    .dataframe thead th {\n",
       "        text-align: right;\n",
       "    }\n",
       "</style>\n",
       "<table border=\"1\" class=\"dataframe\">\n",
       "  <thead>\n",
       "    <tr style=\"text-align: right;\">\n",
       "      <th></th>\n",
       "      <th>title</th>\n",
       "      <th>text</th>\n",
       "      <th>subject</th>\n",
       "      <th>date</th>\n",
       "      <th>label</th>\n",
       "    </tr>\n",
       "  </thead>\n",
       "  <tbody>\n",
       "    <tr>\n",
       "      <th>0</th>\n",
       "      <td>As U.S. budget fight looms, Republicans flip t...</td>\n",
       "      <td>WASHINGTON (Reuters) - The head of a conservat...</td>\n",
       "      <td>politicsNews</td>\n",
       "      <td>December 31, 2017</td>\n",
       "      <td>0</td>\n",
       "    </tr>\n",
       "    <tr>\n",
       "      <th>1</th>\n",
       "      <td>U.S. military to accept transgender recruits o...</td>\n",
       "      <td>WASHINGTON (Reuters) - Transgender people will...</td>\n",
       "      <td>politicsNews</td>\n",
       "      <td>December 29, 2017</td>\n",
       "      <td>0</td>\n",
       "    </tr>\n",
       "    <tr>\n",
       "      <th>2</th>\n",
       "      <td>Senior U.S. Republican senator: 'Let Mr. Muell...</td>\n",
       "      <td>WASHINGTON (Reuters) - The special counsel inv...</td>\n",
       "      <td>politicsNews</td>\n",
       "      <td>December 31, 2017</td>\n",
       "      <td>0</td>\n",
       "    </tr>\n",
       "    <tr>\n",
       "      <th>3</th>\n",
       "      <td>FBI Russia probe helped by Australian diplomat...</td>\n",
       "      <td>WASHINGTON (Reuters) - Trump campaign adviser ...</td>\n",
       "      <td>politicsNews</td>\n",
       "      <td>December 30, 2017</td>\n",
       "      <td>0</td>\n",
       "    </tr>\n",
       "    <tr>\n",
       "      <th>4</th>\n",
       "      <td>Trump wants Postal Service to charge 'much mor...</td>\n",
       "      <td>SEATTLE/WASHINGTON (Reuters) - President Donal...</td>\n",
       "      <td>politicsNews</td>\n",
       "      <td>December 29, 2017</td>\n",
       "      <td>0</td>\n",
       "    </tr>\n",
       "  </tbody>\n",
       "</table>\n",
       "</div>"
      ],
      "text/plain": [
       "                                               title  \\\n",
       "0  As U.S. budget fight looms, Republicans flip t...   \n",
       "1  U.S. military to accept transgender recruits o...   \n",
       "2  Senior U.S. Republican senator: 'Let Mr. Muell...   \n",
       "3  FBI Russia probe helped by Australian diplomat...   \n",
       "4  Trump wants Postal Service to charge 'much mor...   \n",
       "\n",
       "                                                text       subject  \\\n",
       "0  WASHINGTON (Reuters) - The head of a conservat...  politicsNews   \n",
       "1  WASHINGTON (Reuters) - Transgender people will...  politicsNews   \n",
       "2  WASHINGTON (Reuters) - The special counsel inv...  politicsNews   \n",
       "3  WASHINGTON (Reuters) - Trump campaign adviser ...  politicsNews   \n",
       "4  SEATTLE/WASHINGTON (Reuters) - President Donal...  politicsNews   \n",
       "\n",
       "                 date  label  \n",
       "0  December 31, 2017       0  \n",
       "1  December 29, 2017       0  \n",
       "2  December 31, 2017       0  \n",
       "3  December 30, 2017       0  \n",
       "4  December 29, 2017       0  "
      ]
     },
     "execution_count": 19,
     "metadata": {},
     "output_type": "execute_result"
    }
   ],
   "source": [
    "true_d.head()"
   ]
  },
  {
   "cell_type": "code",
   "execution_count": 20,
   "id": "f38bffce",
   "metadata": {},
   "outputs": [
    {
     "data": {
      "text/html": [
       "<div>\n",
       "<style scoped>\n",
       "    .dataframe tbody tr th:only-of-type {\n",
       "        vertical-align: middle;\n",
       "    }\n",
       "\n",
       "    .dataframe tbody tr th {\n",
       "        vertical-align: top;\n",
       "    }\n",
       "\n",
       "    .dataframe thead th {\n",
       "        text-align: right;\n",
       "    }\n",
       "</style>\n",
       "<table border=\"1\" class=\"dataframe\">\n",
       "  <thead>\n",
       "    <tr style=\"text-align: right;\">\n",
       "      <th></th>\n",
       "      <th>title</th>\n",
       "      <th>text</th>\n",
       "      <th>subject</th>\n",
       "      <th>date</th>\n",
       "      <th>label</th>\n",
       "    </tr>\n",
       "  </thead>\n",
       "  <tbody>\n",
       "    <tr>\n",
       "      <th>0</th>\n",
       "      <td>Indonesian forces prepare to storm Papua villa...</td>\n",
       "      <td>JAKARTA (Reuters) - Indonesian security forces...</td>\n",
       "      <td>worldnews</td>\n",
       "      <td>November 11, 2017</td>\n",
       "      <td>0</td>\n",
       "    </tr>\n",
       "    <tr>\n",
       "      <th>1</th>\n",
       "      <td>IRONY ALERT! DC’S DAY WITHOUT WOMEN Literally ...</td>\n",
       "      <td>We hope these women realize they were being us...</td>\n",
       "      <td>Government News</td>\n",
       "      <td>Mar 8, 2017</td>\n",
       "      <td>1</td>\n",
       "    </tr>\n",
       "    <tr>\n",
       "      <th>2</th>\n",
       "      <td>Elizabeth Warren Brilliantly Responds To A**h...</td>\n",
       "      <td>Clearly forgetting that we re in the year 2016...</td>\n",
       "      <td>News</td>\n",
       "      <td>March 18, 2016</td>\n",
       "      <td>1</td>\n",
       "    </tr>\n",
       "    <tr>\n",
       "      <th>3</th>\n",
       "      <td>STAND UP AND CHEER! UKIP Party Leader SLAMS Ge...</td>\n",
       "      <td>He s been Europe s version of the outspoken Te...</td>\n",
       "      <td>politics</td>\n",
       "      <td>Mar 8, 2016</td>\n",
       "      <td>1</td>\n",
       "    </tr>\n",
       "    <tr>\n",
       "      <th>4</th>\n",
       "      <td>BILL CLINTON LOSES IT With Heckler In Finger-P...</td>\n",
       "      <td></td>\n",
       "      <td>Government News</td>\n",
       "      <td>Nov 2, 2016</td>\n",
       "      <td>1</td>\n",
       "    </tr>\n",
       "  </tbody>\n",
       "</table>\n",
       "</div>"
      ],
      "text/plain": [
       "                                               title  \\\n",
       "0  Indonesian forces prepare to storm Papua villa...   \n",
       "1  IRONY ALERT! DC’S DAY WITHOUT WOMEN Literally ...   \n",
       "2   Elizabeth Warren Brilliantly Responds To A**h...   \n",
       "3  STAND UP AND CHEER! UKIP Party Leader SLAMS Ge...   \n",
       "4  BILL CLINTON LOSES IT With Heckler In Finger-P...   \n",
       "\n",
       "                                                text          subject  \\\n",
       "0  JAKARTA (Reuters) - Indonesian security forces...        worldnews   \n",
       "1  We hope these women realize they were being us...  Government News   \n",
       "2  Clearly forgetting that we re in the year 2016...             News   \n",
       "3  He s been Europe s version of the outspoken Te...         politics   \n",
       "4                                                     Government News   \n",
       "\n",
       "                 date  label  \n",
       "0  November 11, 2017       0  \n",
       "1         Mar 8, 2017      1  \n",
       "2      March 18, 2016      1  \n",
       "3         Mar 8, 2016      1  \n",
       "4         Nov 2, 2016      1  "
      ]
     },
     "execution_count": 20,
     "metadata": {},
     "output_type": "execute_result"
    }
   ],
   "source": [
    "train_set.head()"
   ]
  },
  {
   "cell_type": "code",
   "execution_count": 21,
   "id": "86915e8b",
   "metadata": {},
   "outputs": [
    {
     "data": {
      "text/plain": [
       "title      0\n",
       "text       0\n",
       "subject    0\n",
       "date       0\n",
       "label      0\n",
       "dtype: int64"
      ]
     },
     "execution_count": 21,
     "metadata": {},
     "output_type": "execute_result"
    }
   ],
   "source": [
    "train_set.isnull().sum()"
   ]
  },
  {
   "cell_type": "code",
   "execution_count": 22,
   "id": "6ff4b592",
   "metadata": {},
   "outputs": [],
   "source": [
    "# replacing empty string with null strings\n",
    " #train_set=train_set.fillna()"
   ]
  },
  {
   "cell_type": "code",
   "execution_count": 23,
   "id": "e870f478",
   "metadata": {},
   "outputs": [],
   "source": [
    "# merging the subject and the title\n",
    "train_set['content']=train_set['subject']+' '+train_set['title']"
   ]
  },
  {
   "cell_type": "code",
   "execution_count": 24,
   "id": "6778dc0f",
   "metadata": {},
   "outputs": [
    {
     "name": "stdout",
     "output_type": "stream",
     "text": [
      "0        worldnews Indonesian forces prepare to storm P...\n",
      "1        Government News IRONY ALERT! DC’S DAY WITHOUT ...\n",
      "2        News  Elizabeth Warren Brilliantly Responds To...\n",
      "3        politics STAND UP AND CHEER! UKIP Party Leader...\n",
      "4        Government News BILL CLINTON LOSES IT With Hec...\n",
      "                               ...                        \n",
      "44893    politics “GYNECOLOGY WITHOUT BORDERS” Group Re...\n",
      "44894    politicsNews House tax positions begin to emer...\n",
      "44895    News  Donald Trump Just Humiliated Himself By ...\n",
      "44896    politicsNews Top court exempts church-affiliat...\n",
      "44897    News  Matt Damon Just Revealed A HUGE Secret A...\n",
      "Name: content, Length: 44898, dtype: object\n"
     ]
    }
   ],
   "source": [
    " print(train_set['content'])"
   ]
  },
  {
   "cell_type": "code",
   "execution_count": 25,
   "id": "6e428caf",
   "metadata": {},
   "outputs": [],
   "source": [
    "#separating the label and the data\n",
    "X=train_set.drop(columns='label',axis=1)\n",
    "Y=train_set['label']\n"
   ]
  },
  {
   "cell_type": "code",
   "execution_count": 26,
   "id": "ca46fe32",
   "metadata": {},
   "outputs": [
    {
     "name": "stdout",
     "output_type": "stream",
     "text": [
      "                                                   title  \\\n",
      "0      Indonesian forces prepare to storm Papua villa...   \n",
      "1      IRONY ALERT! DC’S DAY WITHOUT WOMEN Literally ...   \n",
      "2       Elizabeth Warren Brilliantly Responds To A**h...   \n",
      "3      STAND UP AND CHEER! UKIP Party Leader SLAMS Ge...   \n",
      "4      BILL CLINTON LOSES IT With Heckler In Finger-P...   \n",
      "...                                                  ...   \n",
      "44893  “GYNECOLOGY WITHOUT BORDERS” Group Releases GU...   \n",
      "44894  House tax positions begin to emerge ahead of t...   \n",
      "44895   Donald Trump Just Humiliated Himself By Mista...   \n",
      "44896  Top court exempts church-affiliated hospitals ...   \n",
      "44897   Matt Damon Just Revealed A HUGE Secret About ...   \n",
      "\n",
      "                                                    text          subject  \\\n",
      "0      JAKARTA (Reuters) - Indonesian security forces...        worldnews   \n",
      "1      We hope these women realize they were being us...  Government News   \n",
      "2      Clearly forgetting that we re in the year 2016...             News   \n",
      "3      He s been Europe s version of the outspoken Te...         politics   \n",
      "4                                                         Government News   \n",
      "...                                                  ...              ...   \n",
      "44893  AROUND 70 per cent of female refugees in north...         politics   \n",
      "44894  WASHINGTON (Reuters) - Republicans in U.S. Hou...     politicsNews   \n",
      "44895  Donald Trump s appearance at an MSNBC town hal...             News   \n",
      "44896  WASHINGTON (Reuters) - The U.S. Supreme Court ...     politicsNews   \n",
      "44897  Donald Trump is an insane narcissist. We all k...             News   \n",
      "\n",
      "                     date                                            content  \n",
      "0      November 11, 2017   worldnews Indonesian forces prepare to storm P...  \n",
      "1             Mar 8, 2017  Government News IRONY ALERT! DC’S DAY WITHOUT ...  \n",
      "2          March 18, 2016  News  Elizabeth Warren Brilliantly Responds To...  \n",
      "3             Mar 8, 2016  politics STAND UP AND CHEER! UKIP Party Leader...  \n",
      "4             Nov 2, 2016  Government News BILL CLINTON LOSES IT With Hec...  \n",
      "...                   ...                                                ...  \n",
      "44893        Mar 11, 2017  politics “GYNECOLOGY WITHOUT BORDERS” Group Re...  \n",
      "44894   December 6, 2017   politicsNews House tax positions begin to emer...  \n",
      "44895   February 18, 2016  News  Donald Trump Just Humiliated Himself By ...  \n",
      "44896       June 5, 2017   politicsNews Top court exempts church-affiliat...  \n",
      "44897   September 1, 2017  News  Matt Damon Just Revealed A HUGE Secret A...  \n",
      "\n",
      "[44898 rows x 5 columns]\n",
      "0        0\n",
      "1        1\n",
      "2        1\n",
      "3        1\n",
      "4        1\n",
      "        ..\n",
      "44893    1\n",
      "44894    0\n",
      "44895    1\n",
      "44896    0\n",
      "44897    1\n",
      "Name: label, Length: 44898, dtype: int64\n"
     ]
    }
   ],
   "source": [
    "print(X)\n",
    "print(Y)"
   ]
  },
  {
   "cell_type": "code",
   "execution_count": 27,
   "id": "96c7d9fe",
   "metadata": {},
   "outputs": [],
   "source": [
    "#stemming is a process of reducing a word to its root word\n",
    "   #eg: acting,actor,actress ----act is the root word    "
   ]
  },
  {
   "cell_type": "code",
   "execution_count": 28,
   "id": "6aadcaad",
   "metadata": {},
   "outputs": [],
   "source": [
    " port_stem= PorterStemmer()"
   ]
  },
  {
   "cell_type": "code",
   "execution_count": 29,
   "id": "eb5f07dc",
   "metadata": {},
   "outputs": [],
   "source": [
    "def stemming(content):\n",
    "    stemmed_content = re.sub('[^a-zA-Z]',' ',content)\n",
    "    stemmed_content = stemmed_content.lower()\n",
    "    stemmed_content = stemmed_content.split()\n",
    "    stemmed_content = [port_stem.stem(word) for word in stemmed_content if not word in stopwords.words('english')]\n",
    "    stemmed_content = ' '.join(stemmed_content)\n",
    "    return stemmed_content  "
   ]
  },
  {
   "cell_type": "code",
   "execution_count": 30,
   "id": "1364f5bd",
   "metadata": {},
   "outputs": [],
   "source": [
    "train_set['content']=train_set['content'].apply(stemming)"
   ]
  },
  {
   "cell_type": "code",
   "execution_count": 31,
   "id": "0a7e2357",
   "metadata": {},
   "outputs": [
    {
     "name": "stdout",
     "output_type": "stream",
     "text": [
      "0        worldnew indonesian forc prepar storm papua vi...\n",
      "1        govern news ironi alert dc day without women l...\n",
      "2        news elizabeth warren brilliantli respond hole...\n",
      "3        polit stand cheer ukip parti leader slam germa...\n",
      "4        govern news bill clinton lose heckler finger p...\n",
      "                               ...                        \n",
      "44893    polit gynecolog without border group releas gu...\n",
      "44894    politicsnew hous tax posit begin emerg ahead t...\n",
      "44895    news donald trump humili mistak sander polici ...\n",
      "44896    politicsnew top court exempt church affili hos...\n",
      "44897    news matt damon reveal huge secret narcissist ...\n",
      "Name: content, Length: 44898, dtype: object\n"
     ]
    }
   ],
   "source": [
    "print(train_set['content'])"
   ]
  },
  {
   "cell_type": "code",
   "execution_count": 32,
   "id": "c2f2eac2",
   "metadata": {},
   "outputs": [],
   "source": [
    "#separating the label and the data\n",
    "X = train_set['content'].values\n",
    "Y = train_set['label'].values"
   ]
  },
  {
   "cell_type": "code",
   "execution_count": 33,
   "id": "9665ec1e",
   "metadata": {},
   "outputs": [
    {
     "name": "stdout",
     "output_type": "stream",
     "text": [
      "['worldnew indonesian forc prepar storm papua villag held rebel'\n",
      " 'govern news ironi alert dc day without women liter led man event turn anti trump ralli wrong stop video'\n",
      " 'news elizabeth warren brilliantli respond hole congressman want neuter video'\n",
      " ... 'news donald trump humili mistak sander polici posit video'\n",
      " 'politicsnew top court exempt church affili hospit pension law'\n",
      " 'news matt damon reveal huge secret narcissist trump realli']\n"
     ]
    }
   ],
   "source": [
    "print(X)"
   ]
  },
  {
   "cell_type": "code",
   "execution_count": 34,
   "id": "7ca80781",
   "metadata": {},
   "outputs": [
    {
     "name": "stdout",
     "output_type": "stream",
     "text": [
      "[0 1 1 ... 1 0 1]\n"
     ]
    }
   ],
   "source": [
    "print(Y)"
   ]
  },
  {
   "cell_type": "code",
   "execution_count": 35,
   "id": "0ce52816",
   "metadata": {},
   "outputs": [
    {
     "data": {
      "text/plain": [
       "(44898,)"
      ]
     },
     "execution_count": 35,
     "metadata": {},
     "output_type": "execute_result"
    }
   ],
   "source": [
    "X.shape"
   ]
  },
  {
   "cell_type": "code",
   "execution_count": 36,
   "id": "44716514",
   "metadata": {},
   "outputs": [
    {
     "data": {
      "text/plain": [
       "(44898,)"
      ]
     },
     "execution_count": 36,
     "metadata": {},
     "output_type": "execute_result"
    }
   ],
   "source": [
    "Y.shape"
   ]
  },
  {
   "cell_type": "code",
   "execution_count": 37,
   "id": "f661ec22",
   "metadata": {},
   "outputs": [],
   "source": [
    "#converting the textual data to numerical data\n",
    "vectorizer= TfidfVectorizer()\n",
    "vectorizer.fit(X)\n",
    "X=vectorizer.transform(X)"
   ]
  },
  {
   "cell_type": "code",
   "execution_count": 38,
   "id": "428d4d13",
   "metadata": {},
   "outputs": [
    {
     "name": "stdout",
     "output_type": "stream",
     "text": [
      "  (0, 13018)\t0.11602202032282073\n",
      "  (0, 12619)\t0.38766613492981794\n",
      "  (0, 11177)\t0.3481438467371971\n",
      "  (0, 9423)\t0.3283507665074478\n",
      "  (0, 8994)\t0.3222312935506747\n",
      "  (0, 8428)\t0.42667300247680207\n",
      "  (0, 5840)\t0.3719713558842504\n",
      "  (0, 5370)\t0.34555178581642737\n",
      "  (0, 4455)\t0.2521585034786373\n",
      "  (1, 13058)\t0.2636791043661173\n",
      "  (1, 12994)\t0.21617788824440337\n",
      "  (1, 12979)\t0.2590655376592588\n",
      "  (1, 12599)\t0.1024629111800411\n",
      "  (1, 12087)\t0.23237965438497582\n",
      "  (1, 12011)\t0.0819080210180837\n",
      "  (1, 11170)\t0.22019391641293623\n",
      "  (1, 9319)\t0.21827351539459394\n",
      "  (1, 7874)\t0.07719783432018593\n",
      "  (1, 7041)\t0.20959533991326224\n",
      "  (1, 6784)\t0.27583886399896007\n",
      "  (1, 6626)\t0.2807736753906473\n",
      "  (1, 6022)\t0.326890622293073\n",
      "  (1, 4938)\t0.1544237626345127\n",
      "  (1, 3952)\t0.2649248719611939\n",
      "  (1, 2891)\t0.27222638987838227\n",
      "  :\t:\n",
      "  (44895, 10091)\t0.3461461790482491\n",
      "  (44895, 8910)\t0.43422456566811374\n",
      "  (44895, 8847)\t0.35834032005640815\n",
      "  (44895, 7874)\t0.1252918201815944\n",
      "  (44895, 7489)\t0.49878574740481624\n",
      "  (44895, 5619)\t0.4006250251577289\n",
      "  (44895, 3404)\t0.30481407214936274\n",
      "  (44896, 11841)\t0.2596628286689946\n",
      "  (44896, 8856)\t0.11525467180847006\n",
      "  (44896, 8597)\t0.38701676021879605\n",
      "  (44896, 6577)\t0.2516255515053469\n",
      "  (44896, 5557)\t0.3540721341135392\n",
      "  (44896, 3995)\t0.44646643694321225\n",
      "  (44896, 2597)\t0.23136412127851042\n",
      "  (44896, 2087)\t0.34060257458799614\n",
      "  (44896, 162)\t0.46038609804150576\n",
      "  (44897, 12011)\t0.1055797258010822\n",
      "  (44897, 10294)\t0.2991904825321875\n",
      "  (44897, 9744)\t0.29682278420843106\n",
      "  (44897, 9410)\t0.3126494206856026\n",
      "  (44897, 7874)\t0.09950827866007318\n",
      "  (44897, 7759)\t0.46979058141527924\n",
      "  (44897, 7174)\t0.41034567543145384\n",
      "  (44897, 5605)\t0.3062559379692715\n",
      "  (44897, 2840)\t0.46979058141527924\n"
     ]
    }
   ],
   "source": [
    "print(X)"
   ]
  },
  {
   "cell_type": "raw",
   "id": "4950781e",
   "metadata": {},
   "source": [
    "splitting the dataset to training and test data"
   ]
  },
  {
   "cell_type": "code",
   "execution_count": 39,
   "id": "06bdf99f",
   "metadata": {},
   "outputs": [],
   "source": [
    "X_train,X_test,Y_train,Y_test= train_test_split(X,Y,test_size=0.2,stratify=Y,random_state=2)"
   ]
  },
  {
   "cell_type": "raw",
   "id": "f28f7852",
   "metadata": {},
   "source": [
    "Training the model:Logistic Regression model"
   ]
  },
  {
   "cell_type": "code",
   "execution_count": 40,
   "id": "ff969ec6",
   "metadata": {},
   "outputs": [],
   "source": [
    "model= LogisticRegression()"
   ]
  },
  {
   "cell_type": "code",
   "execution_count": 41,
   "id": "d39f4b2a",
   "metadata": {},
   "outputs": [
    {
     "data": {
      "text/html": [
       "<style>#sk-container-id-1 {color: black;}#sk-container-id-1 pre{padding: 0;}#sk-container-id-1 div.sk-toggleable {background-color: white;}#sk-container-id-1 label.sk-toggleable__label {cursor: pointer;display: block;width: 100%;margin-bottom: 0;padding: 0.3em;box-sizing: border-box;text-align: center;}#sk-container-id-1 label.sk-toggleable__label-arrow:before {content: \"▸\";float: left;margin-right: 0.25em;color: #696969;}#sk-container-id-1 label.sk-toggleable__label-arrow:hover:before {color: black;}#sk-container-id-1 div.sk-estimator:hover label.sk-toggleable__label-arrow:before {color: black;}#sk-container-id-1 div.sk-toggleable__content {max-height: 0;max-width: 0;overflow: hidden;text-align: left;background-color: #f0f8ff;}#sk-container-id-1 div.sk-toggleable__content pre {margin: 0.2em;color: black;border-radius: 0.25em;background-color: #f0f8ff;}#sk-container-id-1 input.sk-toggleable__control:checked~div.sk-toggleable__content {max-height: 200px;max-width: 100%;overflow: auto;}#sk-container-id-1 input.sk-toggleable__control:checked~label.sk-toggleable__label-arrow:before {content: \"▾\";}#sk-container-id-1 div.sk-estimator input.sk-toggleable__control:checked~label.sk-toggleable__label {background-color: #d4ebff;}#sk-container-id-1 div.sk-label input.sk-toggleable__control:checked~label.sk-toggleable__label {background-color: #d4ebff;}#sk-container-id-1 input.sk-hidden--visually {border: 0;clip: rect(1px 1px 1px 1px);clip: rect(1px, 1px, 1px, 1px);height: 1px;margin: -1px;overflow: hidden;padding: 0;position: absolute;width: 1px;}#sk-container-id-1 div.sk-estimator {font-family: monospace;background-color: #f0f8ff;border: 1px dotted black;border-radius: 0.25em;box-sizing: border-box;margin-bottom: 0.5em;}#sk-container-id-1 div.sk-estimator:hover {background-color: #d4ebff;}#sk-container-id-1 div.sk-parallel-item::after {content: \"\";width: 100%;border-bottom: 1px solid gray;flex-grow: 1;}#sk-container-id-1 div.sk-label:hover label.sk-toggleable__label {background-color: #d4ebff;}#sk-container-id-1 div.sk-serial::before {content: \"\";position: absolute;border-left: 1px solid gray;box-sizing: border-box;top: 0;bottom: 0;left: 50%;z-index: 0;}#sk-container-id-1 div.sk-serial {display: flex;flex-direction: column;align-items: center;background-color: white;padding-right: 0.2em;padding-left: 0.2em;position: relative;}#sk-container-id-1 div.sk-item {position: relative;z-index: 1;}#sk-container-id-1 div.sk-parallel {display: flex;align-items: stretch;justify-content: center;background-color: white;position: relative;}#sk-container-id-1 div.sk-item::before, #sk-container-id-1 div.sk-parallel-item::before {content: \"\";position: absolute;border-left: 1px solid gray;box-sizing: border-box;top: 0;bottom: 0;left: 50%;z-index: -1;}#sk-container-id-1 div.sk-parallel-item {display: flex;flex-direction: column;z-index: 1;position: relative;background-color: white;}#sk-container-id-1 div.sk-parallel-item:first-child::after {align-self: flex-end;width: 50%;}#sk-container-id-1 div.sk-parallel-item:last-child::after {align-self: flex-start;width: 50%;}#sk-container-id-1 div.sk-parallel-item:only-child::after {width: 0;}#sk-container-id-1 div.sk-dashed-wrapped {border: 1px dashed gray;margin: 0 0.4em 0.5em 0.4em;box-sizing: border-box;padding-bottom: 0.4em;background-color: white;}#sk-container-id-1 div.sk-label label {font-family: monospace;font-weight: bold;display: inline-block;line-height: 1.2em;}#sk-container-id-1 div.sk-label-container {text-align: center;}#sk-container-id-1 div.sk-container {/* jupyter's `normalize.less` sets `[hidden] { display: none; }` but bootstrap.min.css set `[hidden] { display: none !important; }` so we also need the `!important` here to be able to override the default hidden behavior on the sphinx rendered scikit-learn.org. See: https://github.com/scikit-learn/scikit-learn/issues/21755 */display: inline-block !important;position: relative;}#sk-container-id-1 div.sk-text-repr-fallback {display: none;}</style><div id=\"sk-container-id-1\" class=\"sk-top-container\"><div class=\"sk-text-repr-fallback\"><pre>LogisticRegression()</pre><b>In a Jupyter environment, please rerun this cell to show the HTML representation or trust the notebook. <br />On GitHub, the HTML representation is unable to render, please try loading this page with nbviewer.org.</b></div><div class=\"sk-container\" hidden><div class=\"sk-item\"><div class=\"sk-estimator sk-toggleable\"><input class=\"sk-toggleable__control sk-hidden--visually\" id=\"sk-estimator-id-1\" type=\"checkbox\" checked><label for=\"sk-estimator-id-1\" class=\"sk-toggleable__label sk-toggleable__label-arrow\">LogisticRegression</label><div class=\"sk-toggleable__content\"><pre>LogisticRegression()</pre></div></div></div></div></div>"
      ],
      "text/plain": [
       "LogisticRegression()"
      ]
     },
     "execution_count": 41,
     "metadata": {},
     "output_type": "execute_result"
    }
   ],
   "source": [
    "model.fit(X_train, Y_train)"
   ]
  },
  {
   "cell_type": "raw",
   "id": "619ce84b",
   "metadata": {},
   "source": [
    "Evaluation\n",
    "\n",
    " Accuracy score"
   ]
  },
  {
   "cell_type": "code",
   "execution_count": 42,
   "id": "a3958bda",
   "metadata": {},
   "outputs": [],
   "source": [
    "#accuracy score on the training data\n",
    "X_train_prediction = model.predict(X_train)\n",
    "training_data_accuracy = accuracy_score(X_train_prediction,Y_train)"
   ]
  },
  {
   "cell_type": "code",
   "execution_count": 43,
   "id": "45c3e011",
   "metadata": {},
   "outputs": [
    {
     "name": "stdout",
     "output_type": "stream",
     "text": [
      "accuracy score of the training data:  0.9999164764185088\n"
     ]
    }
   ],
   "source": [
    "print('accuracy score of the training data: ',training_data_accuracy)"
   ]
  },
  {
   "cell_type": "code",
   "execution_count": 44,
   "id": "26cd610a",
   "metadata": {},
   "outputs": [],
   "source": [
    "#accuracy score on the test data\n",
    "X_test_prediction = model.predict(X_test)\n",
    "test_data_accuracy = accuracy_score(X_test_prediction,Y_test)"
   ]
  },
  {
   "cell_type": "code",
   "execution_count": 47,
   "id": "3b67c198",
   "metadata": {},
   "outputs": [
    {
     "name": "stdout",
     "output_type": "stream",
     "text": [
      "accuracy score of the test data:  1.0\n"
     ]
    }
   ],
   "source": [
    "print('accuracy score of the test data: ',test_data_accuracy)"
   ]
  },
  {
   "cell_type": "raw",
   "id": "4adda30f",
   "metadata": {},
   "source": [
    "Making a predictive system"
   ]
  },
  {
   "cell_type": "code",
   "execution_count": 55,
   "id": "fa2a10d3",
   "metadata": {},
   "outputs": [
    {
     "name": "stdout",
     "output_type": "stream",
     "text": [
      "[1]\n",
      "The news is fake\n"
     ]
    }
   ],
   "source": [
    "X_new=X_test[0]\n",
    "prediction=model.predict(X_new)\n",
    "print(prediction)\n",
    "\n",
    "if(prediction[0]==0):\n",
    "    print(\"The news is real\")\n",
    "else:\n",
    "    print(\"The news is fake\")"
   ]
  },
  {
   "cell_type": "code",
   "execution_count": 56,
   "id": "d8751944",
   "metadata": {},
   "outputs": [
    {
     "name": "stdout",
     "output_type": "stream",
     "text": [
      "1\n"
     ]
    }
   ],
   "source": [
    "print(Y_test[0])"
   ]
  },
  {
   "cell_type": "code",
   "execution_count": null,
   "id": "6c131a89",
   "metadata": {},
   "outputs": [],
   "source": []
  }
 ],
 "metadata": {
  "kernelspec": {
   "display_name": "Python 3 (ipykernel)",
   "language": "python",
   "name": "python3"
  },
  "language_info": {
   "codemirror_mode": {
    "name": "ipython",
    "version": 3
   },
   "file_extension": ".py",
   "mimetype": "text/x-python",
   "name": "python",
   "nbconvert_exporter": "python",
   "pygments_lexer": "ipython3",
   "version": "3.11.4"
  }
 },
 "nbformat": 4,
 "nbformat_minor": 5
}
